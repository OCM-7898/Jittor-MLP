{
 "cells": [
  {
   "cell_type": "code",
   "execution_count": null,
   "source": [
    "import jittor as jt\n",
    "from models_jittor import gMLPForImageClassification as gMLP_jt\n",
    "from models_jittor import ResMLPForImageClassification as ResMLP_jt\n",
    "from models_jittor import MLPMixerForImageClassification as MLPMixer_jt\n",
    "from models_jittor import ViP as ViP_jt"
   ],
   "outputs": [],
   "metadata": {}
  },
  {
   "cell_type": "code",
   "execution_count": 1,
   "source": [
    "import torch\n",
    "from models_pytorch import gMLPForImageClassification as gMLP_pt\n",
    "from models_pytorch import ResMLPForImageClassification as ResMLP_pt\n",
    "from models_pytorch import MLPMixerForImageClassification as MLPMixer_pt\n",
    "from models_pytorch import ViP as ViP_pt\n",
    "import time"
   ],
   "outputs": [],
   "metadata": {}
  },
  {
   "cell_type": "code",
   "execution_count": null,
   "source": [
    "# model_jt = gMLP_jt(\n",
    "#     image_size=224,\n",
    "#     patch_size=16,\n",
    "#     in_channels=3,\n",
    "#     num_classes=1000,\n",
    "#     d_model=256,\n",
    "#     d_ffn=1536,\n",
    "#     depth=30,\n",
    "# )\n",
    "\n",
    "# model_jt = ResMLP_jt(\n",
    "#     in_channels = 3,\n",
    "#     image_size = 224,\n",
    "#     patch_size = 16,\n",
    "#     d_model = 384,\n",
    "#     depth = 12,\n",
    "#     num_classes = 1000, \n",
    "#     expansion_factor = 4\n",
    "# )\n",
    "\n",
    "# model_jt = MLPMixer_jt(\n",
    "#     image_size=(224,112),\n",
    "#     patch_size=(16, 8),\n",
    "#     in_channels=3,\n",
    "#     num_classes=1000,\n",
    "#     d_model=256,\n",
    "#     depth=12,\n",
    "# )\n",
    "\n",
    "model_jt = ViP_jt(\n",
    "    image_size=(224, 112),\n",
    "    patch_size=(16, 8),\n",
    "    in_channels=3,\n",
    "    num_classes=1000,\n",
    "    d_model=256,\n",
    "    depth=30,\n",
    "    segments = 16,\n",
    "    weighted = False\n",
    ")\n"
   ],
   "outputs": [],
   "metadata": {}
  },
  {
   "cell_type": "code",
   "execution_count": 4,
   "source": [
    "\n",
    "# model_pt = gMLP_pt(\n",
    "#     image_size=(224,112),\n",
    "#     patch_size=16,\n",
    "#     in_channels=3,\n",
    "#     num_classes=1000,\n",
    "#     d_model=256,\n",
    "#     d_ffn=1536,\n",
    "#     depth=30\n",
    "# )\n",
    "\n",
    "model_pt = ResMLP_pt(\n",
    "    in_channels = 3,\n",
    "    image_size = (224,112),\n",
    "    patch_size = 16,\n",
    "    d_model = 384,\n",
    "    depth = 12,\n",
    "    num_classes = 1000, \n",
    "    expansion_factor = 4\n",
    ")\n",
    "\n",
    "# model_pt = MLPMixer_pt(\n",
    "#     image_size=(224,112),\n",
    "#     patch_size=16,\n",
    "#     in_channels=3,\n",
    "#     num_classes=1000,\n",
    "#     d_model=256,\n",
    "#     depth=12,\n",
    "# )\n",
    "\n",
    "# model_pt = ViP_pt(\n",
    "#     image_size=(224, 112),\n",
    "#     patch_size=(16, 8),\n",
    "#     in_channels=3,\n",
    "#     num_classes=1000,\n",
    "#     d_model=256,\n",
    "#     depth=30,\n",
    "#     segments = 16,\n",
    "#     weighted = False\n",
    "# )"
   ],
   "outputs": [],
   "metadata": {}
  },
  {
   "cell_type": "code",
   "execution_count": null,
   "source": [
    "images = jt.randn(8, 3, 224, 112)\n",
    "\n",
    "with jt.no_grad():\n",
    "    output = model_jt(images)\n",
    "print(output.shape)\n"
   ],
   "outputs": [],
   "metadata": {}
  },
  {
   "cell_type": "code",
   "execution_count": 5,
   "source": [
    "images = torch.randn(8, 3, 224, 112)\n",
    "\n",
    "with torch.no_grad():\n",
    "    output = model_pt(images)\n",
    "print(output.shape)"
   ],
   "outputs": [
    {
     "output_type": "stream",
     "name": "stdout",
     "text": [
      "torch.Size([8, 1000])\n"
     ]
    }
   ],
   "metadata": {}
  }
 ],
 "metadata": {
  "orig_nbformat": 4,
  "language_info": {
   "name": "python",
   "version": "3.8.5",
   "mimetype": "text/x-python",
   "codemirror_mode": {
    "name": "ipython",
    "version": 3
   },
   "pygments_lexer": "ipython3",
   "nbconvert_exporter": "python",
   "file_extension": ".py"
  },
  "kernelspec": {
   "name": "python3",
   "display_name": "Python 3.8.5 64-bit ('base': conda)"
  },
  "interpreter": {
   "hash": "33c023bf5980af423125aca9a625c46b0823ed829175682be9d8faf5aeee714b"
  }
 },
 "nbformat": 4,
 "nbformat_minor": 2
}